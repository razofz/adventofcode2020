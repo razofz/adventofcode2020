{
 "cells": [
  {
   "cell_type": "markdown",
   "metadata": {},
   "source": [
    "# Day 9\n",
    "\n",
    "https://adventofcode.com/2020/day/9\n",
    "\n",
    "---"
   ]
  },
  {
   "cell_type": "markdown",
   "metadata": {},
   "source": [
    "## Part 1"
   ]
  },
  {
   "cell_type": "code",
   "execution_count": 1,
   "metadata": {},
   "outputs": [],
   "source": [
    "from IPython.core.debugger import set_trace\n",
    "from itertools import combinations\n",
    "import random"
   ]
  },
  {
   "cell_type": "code",
   "execution_count": 2,
   "metadata": {},
   "outputs": [],
   "source": [
    "def massage_input(i):\n",
    "    i = [int(x) for x in i.splitlines()]\n",
    "    return i"
   ]
  },
  {
   "cell_type": "code",
   "execution_count": 3,
   "metadata": {},
   "outputs": [],
   "source": [
    "def find_sum_terms(prev_nbrs, target_sum):\n",
    "    for combo in combinations(prev_nbrs, 2):\n",
    "        if combo[0] != combo[1]:\n",
    "            if combo[0] + combo[1] == target_sum:\n",
    "                return (combo[0], combo[1])\n",
    "    return False"
   ]
  },
  {
   "cell_type": "code",
   "execution_count": 4,
   "metadata": {},
   "outputs": [],
   "source": [
    "def part1(p, length_preamble):\n",
    "    p = massage_input(p)\n",
    "    pointer = length_preamble\n",
    "    while pointer < len(p):\n",
    "        nbrs_to_search = p[pointer-length_preamble:pointer]\n",
    "        assert len(nbrs_to_search) == length_preamble\n",
    "        found_nbrs = find_sum_terms(nbrs_to_search, target_sum=p[pointer])\n",
    "        if not found_nbrs:\n",
    "            return p[pointer], pointer, nbrs_to_search\n",
    "        pointer += 1\n",
    "    return ..."
   ]
  },
  {
   "cell_type": "markdown",
   "metadata": {},
   "source": [
    "Understanding the problem:"
   ]
  },
  {
   "cell_type": "code",
   "execution_count": 6,
   "metadata": {},
   "outputs": [
    {
     "name": "stdout",
     "output_type": "stream",
     "text": [
      "20, 14, 16, 7, 11, 12, 19, 25, 22, 9, 3, 13, 18, 5, 17, 1, 2, 23, 6, 8, 15, 4, 24, 21, 10, "
     ]
    }
   ],
   "source": [
    "l = list(range(1,20)) + list(range(21,26))\n",
    "random.shuffle(l)\n",
    "l\n",
    "for x in [20] + l:\n",
    "    print(x, end = ', ')"
   ]
  },
  {
   "cell_type": "code",
   "execution_count": 7,
   "metadata": {},
   "outputs": [
    {
     "name": "stdout",
     "output_type": "stream",
     "text": [
      "1: 20\n",
      "2: 3\n",
      "3: 17\n",
      "4: 15\n",
      "5: 11\n",
      "6: 7\n",
      "7: 6\n",
      "8: 9\n",
      "9: 16\n",
      "10: 24\n",
      "11: 25\n",
      "12: 22\n",
      "13: 10\n",
      "14: 1\n",
      "15: 12\n",
      "16: 23\n",
      "17: 2\n",
      "18: 18\n",
      "19: 4\n",
      "20: 13\n",
      "21: 14\n",
      "22: 19\n",
      "23: 8\n",
      "24: 21\n",
      "25: 5\n"
     ]
    }
   ],
   "source": [
    "i = 1\n",
    "l = list(range(1,20)) + list(range(21,26))\n",
    "random.shuffle(l)\n",
    "for x in [20] + l:\n",
    "    print(f'{i}: {x}')\n",
    "    i += 1"
   ]
  },
  {
   "cell_type": "code",
   "execution_count": 8,
   "metadata": {},
   "outputs": [
    {
     "name": "stdout",
     "output_type": "stream",
     "text": [
      "1: 20\n",
      "2: 13\n",
      "3: 17\n",
      "4: 6\n",
      "5: 8\n",
      "6: 14\n",
      "7: 15\n",
      "8: 5\n",
      "9: 21\n",
      "10: 10\n",
      "11: 4\n",
      "12: 3\n",
      "13: 18\n",
      "14: 22\n",
      "15: 24\n",
      "16: 19\n",
      "17: 12\n",
      "18: 11\n",
      "19: 23\n",
      "20: 9\n",
      "21: 16\n",
      "22: 1\n",
      "23: 2\n",
      "24: 25\n",
      "25: 7\n",
      "26: 45\n"
     ]
    }
   ],
   "source": [
    "i = 1\n",
    "l = list(range(1,20)) + list(range(21,26))\n",
    "random.shuffle(l)\n",
    "for x in [20] + l + [45]:\n",
    "    print(f'{i}: {x}')\n",
    "    i += 1"
   ]
  },
  {
   "cell_type": "code",
   "execution_count": 9,
   "metadata": {},
   "outputs": [
    {
     "data": {
      "text/plain": [
       "(21, 24)"
      ]
     },
     "execution_count": 9,
     "metadata": {},
     "output_type": "execute_result"
    }
   ],
   "source": [
    "find_sum_terms(l, 45)"
   ]
  },
  {
   "cell_type": "code",
   "execution_count": 10,
   "metadata": {},
   "outputs": [
    {
     "data": {
      "text/plain": [
       "(17, 9)"
      ]
     },
     "execution_count": 10,
     "metadata": {},
     "output_type": "execute_result"
    }
   ],
   "source": [
    "find_sum_terms(l + [45], 26)"
   ]
  },
  {
   "cell_type": "code",
   "execution_count": 11,
   "metadata": {},
   "outputs": [
    {
     "data": {
      "text/plain": [
       "False"
      ]
     },
     "execution_count": 11,
     "metadata": {},
     "output_type": "execute_result"
    }
   ],
   "source": [
    "find_sum_terms(l + [45], 65)"
   ]
  },
  {
   "cell_type": "code",
   "execution_count": 12,
   "metadata": {},
   "outputs": [
    {
     "data": {
      "text/plain": [
       "(21, 45)"
      ]
     },
     "execution_count": 12,
     "metadata": {},
     "output_type": "execute_result"
    }
   ],
   "source": [
    "find_sum_terms(l + [45], 66)"
   ]
  },
  {
   "cell_type": "code",
   "execution_count": 13,
   "metadata": {},
   "outputs": [
    {
     "data": {
      "text/plain": [
       "(19, 45)"
      ]
     },
     "execution_count": 13,
     "metadata": {},
     "output_type": "execute_result"
    }
   ],
   "source": [
    "find_sum_terms(l + [45], 64)"
   ]
  },
  {
   "cell_type": "markdown",
   "metadata": {},
   "source": [
    "Possible curveballs for part 2:\n",
    "\n",
    "- product instead of sum\n",
    "    - or other change of requirement\n",
    "- change length of pre-amble\n",
    "- take all numbers that does not meet requirement\n",
    "- invalidate also the summed-together numbers"
   ]
  },
  {
   "cell_type": "markdown",
   "metadata": {},
   "source": [
    "## Test"
   ]
  },
  {
   "cell_type": "code",
   "execution_count": 14,
   "metadata": {},
   "outputs": [],
   "source": [
    "tmp = [str(x) + '\\n' for x in [20] + l]\n",
    "test1 = ''\n",
    "for x in tmp:\n",
    "    test1 += x\n",
    "del tmp\n",
    "del x\n",
    "length_preamble_test1 = 25"
   ]
  },
  {
   "cell_type": "code",
   "execution_count": 15,
   "metadata": {},
   "outputs": [
    {
     "name": "stdout",
     "output_type": "stream",
     "text": [
      "20\n",
      "13\n",
      "17\n",
      "6\n",
      "8\n",
      "14\n",
      "15\n",
      "5\n",
      "21\n",
      "10\n",
      "4\n",
      "3\n",
      "18\n",
      "22\n",
      "24\n",
      "19\n",
      "12\n",
      "11\n",
      "23\n",
      "9\n",
      "16\n",
      "1\n",
      "2\n",
      "25\n",
      "7\n",
      "\n"
     ]
    }
   ],
   "source": [
    "print(test1)"
   ]
  },
  {
   "cell_type": "code",
   "execution_count": 16,
   "metadata": {},
   "outputs": [],
   "source": [
    "test2 = '''35\n",
    "20\n",
    "15\n",
    "25\n",
    "47\n",
    "40\n",
    "62\n",
    "55\n",
    "65\n",
    "95\n",
    "102\n",
    "117\n",
    "150\n",
    "182\n",
    "127\n",
    "219\n",
    "299\n",
    "277\n",
    "309\n",
    "576\n",
    "'''\n",
    "length_preamble_test2 = 5\n",
    "faulty_test2 = [127]"
   ]
  },
  {
   "cell_type": "code",
   "execution_count": 19,
   "metadata": {},
   "outputs": [
    {
     "data": {
      "text/plain": [
       "[35,\n",
       " 20,\n",
       " 15,\n",
       " 25,\n",
       " 47,\n",
       " 40,\n",
       " 62,\n",
       " 55,\n",
       " 65,\n",
       " 95,\n",
       " 102,\n",
       " 117,\n",
       " 150,\n",
       " 182,\n",
       " 127,\n",
       " 219,\n",
       " 299,\n",
       " 277,\n",
       " 309,\n",
       " 576]"
      ]
     },
     "execution_count": 19,
     "metadata": {},
     "output_type": "execute_result"
    }
   ],
   "source": [
    "massage_input(test2)"
   ]
  },
  {
   "cell_type": "code",
   "execution_count": 67,
   "metadata": {},
   "outputs": [],
   "source": [
    "assert find_sum_terms([x for x in range(3)], 0) is False\n",
    "assert find_sum_terms([x for x in range(3)], 1) == (0, 1)\n",
    "assert find_sum_terms([x for x in range(3)], 2) == (0, 2)\n",
    "assert find_sum_terms([x for x in range(3)], 3) == (1, 2)\n",
    "assert find_sum_terms([x for x in range(3)], 4) is False"
   ]
  },
  {
   "cell_type": "code",
   "execution_count": 21,
   "metadata": {},
   "outputs": [
    {
     "data": {
      "text/plain": [
       "(25, 15)"
      ]
     },
     "execution_count": 21,
     "metadata": {},
     "output_type": "execute_result"
    }
   ],
   "source": [
    "# %debug\n",
    "find_sum_terms([47, 25, 15, 20, 35], 40)"
   ]
  },
  {
   "cell_type": "code",
   "execution_count": 23,
   "metadata": {},
   "outputs": [
    {
     "data": {
      "text/plain": [
       "(127, 14, [95, 102, 117, 150, 182])"
      ]
     },
     "execution_count": 23,
     "metadata": {},
     "output_type": "execute_result"
    }
   ],
   "source": [
    "# %debug\n",
    "part1(test2, length_preamble_test2)"
   ]
  },
  {
   "cell_type": "code",
   "execution_count": 24,
   "metadata": {},
   "outputs": [
    {
     "data": {
      "text/plain": [
       "False"
      ]
     },
     "execution_count": 24,
     "metadata": {},
     "output_type": "execute_result"
    }
   ],
   "source": [
    "# %debug\n",
    "find_sum_terms([15, 25, 47, 62, 55], 65)"
   ]
  },
  {
   "cell_type": "code",
   "execution_count": 65,
   "metadata": {},
   "outputs": [],
   "source": [
    "assert (out := part1(test2, length_preamble_test2))[0] == 127, out"
   ]
  },
  {
   "cell_type": "markdown",
   "metadata": {},
   "source": [
    "### Run"
   ]
  },
  {
   "cell_type": "code",
   "execution_count": 26,
   "metadata": {},
   "outputs": [],
   "source": [
    "with open('day9-input.txt', 'r') as f:\n",
    "    given = f.read()"
   ]
  },
  {
   "cell_type": "code",
   "execution_count": 27,
   "metadata": {},
   "outputs": [
    {
     "data": {
      "text/plain": [
       "(1398413738,\n",
       " 636,\n",
       " [861455424,\n",
       "  967912353,\n",
       "  1053139855,\n",
       "  997663126,\n",
       "  1026251597,\n",
       "  1061910421,\n",
       "  1215304420,\n",
       "  1109372873,\n",
       "  1115723169,\n",
       "  1191774092,\n",
       "  2392441420,\n",
       "  1200950671,\n",
       "  1220956986,\n",
       "  1653829521,\n",
       "  1277534921,\n",
       "  1322853448,\n",
       "  1656129538,\n",
       "  1713685650,\n",
       "  1365994010,\n",
       "  1425850139,\n",
       "  1478987463,\n",
       "  2162867235,\n",
       "  2225096042,\n",
       "  1658328649,\n",
       "  1923365845])"
      ]
     },
     "execution_count": 27,
     "metadata": {},
     "output_type": "execute_result"
    }
   ],
   "source": [
    "part1(given, 25)"
   ]
  },
  {
   "cell_type": "markdown",
   "metadata": {},
   "source": [
    "---\n",
    "\n",
    "## Part 2"
   ]
  },
  {
   "cell_type": "markdown",
   "metadata": {},
   "source": [
    "## Test"
   ]
  },
  {
   "cell_type": "code",
   "execution_count": 28,
   "metadata": {},
   "outputs": [
    {
     "data": {
      "text/plain": [
       "1398413738"
      ]
     },
     "execution_count": 28,
     "metadata": {},
     "output_type": "execute_result"
    }
   ],
   "source": [
    "invalid = part1(given, 25)[0]\n",
    "invalid"
   ]
  },
  {
   "cell_type": "code",
   "execution_count": 57,
   "metadata": {},
   "outputs": [],
   "source": [
    "def part2(p, invalid):\n",
    "    p = massage_input(p)\n",
    "    idx = p.index(invalid)\n",
    "    \n",
    "    for start in range(idx-1):\n",
    "        for end in range(start+2, idx):\n",
    "            nbrs = p[start:end]\n",
    "            tmp = sum(p[start:end])\n",
    "#             set_trace()\n",
    "            if tmp > invalid:\n",
    "                break\n",
    "            if tmp == invalid:\n",
    "                return p[start:end]"
   ]
  },
  {
   "cell_type": "code",
   "execution_count": 63,
   "metadata": {},
   "outputs": [
    {
     "data": {
      "text/plain": [
       "62"
      ]
     },
     "execution_count": 63,
     "metadata": {},
     "output_type": "execute_result"
    }
   ],
   "source": [
    "out = part2(test2, 127)\n",
    "out, sum([min(out), max(out)])"
   ]
  },
  {
   "cell_type": "code",
   "execution_count": 64,
   "metadata": {},
   "outputs": [
    {
     "data": {
      "text/plain": [
       "([60622973,\n",
       "  64153191,\n",
       "  74380917,\n",
       "  69106226,\n",
       "  73060215,\n",
       "  95259115,\n",
       "  77626650,\n",
       "  74857154,\n",
       "  75886498,\n",
       "  78392756,\n",
       "  108898078,\n",
       "  83169043,\n",
       "  86276098,\n",
       "  89550421,\n",
       "  104870158,\n",
       "  90791106,\n",
       "  91513139],\n",
       " 169521051)"
      ]
     },
     "execution_count": 64,
     "metadata": {},
     "output_type": "execute_result"
    }
   ],
   "source": [
    "out = part2(given, invalid)\n",
    "out, sum([min(out), max(out)])"
   ]
  }
 ],
 "metadata": {
  "jupytext": {
   "formats": "ipynb,md"
  },
  "kernelspec": {
   "display_name": "Python 3",
   "language": "python",
   "name": "python3"
  },
  "language_info": {
   "codemirror_mode": {
    "name": "ipython",
    "version": 3
   },
   "file_extension": ".py",
   "mimetype": "text/x-python",
   "name": "python",
   "nbconvert_exporter": "python",
   "pygments_lexer": "ipython3",
   "version": "3.8.6"
  }
 },
 "nbformat": 4,
 "nbformat_minor": 4
}
