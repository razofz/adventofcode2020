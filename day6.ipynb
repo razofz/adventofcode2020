{
 "cells": [
  {
   "cell_type": "markdown",
   "metadata": {},
   "source": [
    "# Day 6\n",
    "\n",
    "https://adventofcode.com/2020/day/6\n",
    "\n",
    "---"
   ]
  },
  {
   "cell_type": "markdown",
   "metadata": {},
   "source": [
    "## Part 1"
   ]
  },
  {
   "cell_type": "code",
   "execution_count": 1,
   "metadata": {},
   "outputs": [],
   "source": [
    "import itertools"
   ]
  },
  {
   "cell_type": "markdown",
   "metadata": {},
   "source": [
    "## Test"
   ]
  },
  {
   "cell_type": "code",
   "execution_count": 2,
   "metadata": {},
   "outputs": [],
   "source": [
    "test = \"\"\"abc\n",
    "\n",
    "a\n",
    "b\n",
    "c\n",
    "\n",
    "ab\n",
    "ac\n",
    "\n",
    "a\n",
    "a\n",
    "a\n",
    "a\n",
    "\n",
    "b\"\"\""
   ]
  },
  {
   "cell_type": "code",
   "execution_count": 3,
   "metadata": {},
   "outputs": [],
   "source": [
    "def massage_input(i):\n",
    "    out = []\n",
    "    for group in i.split(\"\\n\\n\"):\n",
    "        answers = \"\"\n",
    "        for answer in group.split():\n",
    "            answers += answer\n",
    "        out += [set(answers)]\n",
    "    return out"
   ]
  },
  {
   "cell_type": "code",
   "execution_count": 4,
   "metadata": {},
   "outputs": [
    {
     "data": {
      "text/plain": [
       "[{'a', 'b', 'c'}, {'a', 'b', 'c'}, {'a', 'b', 'c'}, {'a'}, {'b'}]"
      ]
     },
     "execution_count": 4,
     "metadata": {},
     "output_type": "execute_result"
    }
   ],
   "source": [
    "massage_input(test)"
   ]
  },
  {
   "cell_type": "code",
   "execution_count": 5,
   "metadata": {},
   "outputs": [],
   "source": [
    "def part1(p):\n",
    "    return [len(group_answers) for group_answers in massage_input(p)]"
   ]
  },
  {
   "cell_type": "code",
   "execution_count": 6,
   "metadata": {},
   "outputs": [],
   "source": [
    "corrects = [3, 3, 3, 1, 1]\n",
    "correct_sum = 11"
   ]
  },
  {
   "cell_type": "code",
   "execution_count": 7,
   "metadata": {},
   "outputs": [],
   "source": [
    "p = part1(test)\n",
    "for i in range(len(corrects)):\n",
    "    assert p[i] == corrects[i]\n",
    "assert sum(p) == correct_sum"
   ]
  },
  {
   "cell_type": "markdown",
   "metadata": {},
   "source": [
    "### Run"
   ]
  },
  {
   "cell_type": "code",
   "execution_count": 8,
   "metadata": {},
   "outputs": [],
   "source": [
    "with open(\"day6-input.txt\", \"r\") as f:\n",
    "    given = f.read()"
   ]
  },
  {
   "cell_type": "code",
   "execution_count": 9,
   "metadata": {},
   "outputs": [
    {
     "data": {
      "text/plain": [
       "6416"
      ]
     },
     "execution_count": 9,
     "metadata": {},
     "output_type": "execute_result"
    }
   ],
   "source": [
    "sum(part1(given))"
   ]
  },
  {
   "cell_type": "markdown",
   "metadata": {},
   "source": [
    "---\n",
    "\n",
    "## Part 2"
   ]
  },
  {
   "cell_type": "markdown",
   "metadata": {},
   "source": [
    "## Test"
   ]
  },
  {
   "cell_type": "markdown",
   "metadata": {},
   "source": [
    "Doing this in a very exhaustive way: taking all the permutations of the intersected sets of characters (yes-answers) in the group. This is to ensure that we get a correct output, without this exhaustive approach some edge cases muddled the result. E. g. the second groups' answers, `['k', 'k', 'tl', 'k']`, gave output `k`, which is obviously not in every person's answers.\n",
    "\n",
    "*(There's probably (very probable) some faster and cleaner way to solve this. But in line with the theme that seems to arise during these exercises: done is better than perfect :)*"
   ]
  },
  {
   "cell_type": "code",
   "execution_count": 10,
   "metadata": {},
   "outputs": [],
   "source": [
    "def find_common_answers(sets):\n",
    "    if len(sets) == 0 and type(sets) == list:\n",
    "        return []\n",
    "    if len(sets) == 1 and type(sets) == list:\n",
    "        return list(sets)[0]\n",
    "    else:\n",
    "        new_sets = []\n",
    "        for permutation in itertools.permutations(range(len(sets))):\n",
    "            perm_sets = [sets[x] for x in permutation]\n",
    "            for i in range(1, len(perm_sets)):\n",
    "                new_sets += [set(perm_sets[0]).intersection(perm_sets[i])]\n",
    "        out_sets = new_sets[0]\n",
    "        for s in new_sets[1:]:\n",
    "            out_sets = out_sets.intersection(s)\n",
    "        return out_sets"
   ]
  },
  {
   "cell_type": "code",
   "execution_count": 11,
   "metadata": {},
   "outputs": [
    {
     "name": "stdout",
     "output_type": "stream",
     "text": [
      "abc\n",
      "abc\n",
      "\n",
      "a\n",
      "b\n",
      "c\n",
      "set()\n",
      "\n",
      "ab\n",
      "ac\n",
      "{'a'}\n",
      "\n",
      "a\n",
      "a\n",
      "a\n",
      "a\n",
      "{'a'}\n",
      "\n"
     ]
    }
   ],
   "source": [
    "for group in test.split('\\n\\n')[:-1]:\n",
    "    print(group)\n",
    "    print(find_common_answers([answer for answer in group.split()]))\n",
    "    print()"
   ]
  },
  {
   "cell_type": "code",
   "execution_count": 24,
   "metadata": {},
   "outputs": [],
   "source": [
    "def part2(i):\n",
    "    i = [[answer for answer in group.split()] for group in i.split('\\n\\n')]\n",
    "    out = []\n",
    "    for group in i:\n",
    "        out += [len(find_common_answers(group))]\n",
    "    return out"
   ]
  },
  {
   "cell_type": "code",
   "execution_count": 13,
   "metadata": {},
   "outputs": [],
   "source": [
    "corrects_part2 = [3, 0, 1, 1, 1]\n",
    "correct_sum_part2 = 6\n",
    "result = part2(test)\n",
    "for i in range(len(corrects_part2)):\n",
    "    assert (\n",
    "        result[i] == corrects_part2[i]\n",
    "    ), f\"mine: {result[i]}, theirs: {corrects_part2[i]}\"\n",
    "assert sum(result) == correct_sum_part2"
   ]
  },
  {
   "cell_type": "markdown",
   "metadata": {},
   "source": [
    "### Run"
   ]
  },
  {
   "cell_type": "code",
   "execution_count": 14,
   "metadata": {},
   "outputs": [
    {
     "data": {
      "text/plain": [
       "[['mxuwh', 'hwuxm', 'uhxmw', 'hwumx', 'hwuxm'],\n",
       " ['k', 'k', 'tl', 'k'],\n",
       " ['qebagdfvhr', 'alvkif', 'yufaovwi', 'fivsa', 'nwifazovu'],\n",
       " ['ilpecrqn', 'aipqgrfh', 'pbwizrqv', 'rkwiqpnt'],\n",
       " ['kehaytgcbfiq',\n",
       "  'cyhgkbtiaqfe',\n",
       "  'cbkhteyqgifa',\n",
       "  'eyaglfbvciktqzh',\n",
       "  'yhcqebatgfki'],\n",
       " ['vknjbcuqrxshzemtayow', 'uraptembyvxglzwiqsfn'],\n",
       " ['e', 'e', 'e', 'e'],\n",
       " ['jhpu', 'wmhqj', 'jmbhvu', 'ijyshorz'],\n",
       " ['dwise', 'dneij', 'iwdeh', 'hidqe'],\n",
       " ['mclektfnbpgoyqxviru', 'jniulbstvmxohawdpef']]"
      ]
     },
     "execution_count": 14,
     "metadata": {},
     "output_type": "execute_result"
    }
   ],
   "source": [
    "check = [[answer for answer in group.split()] for group in given.split('\\n\\n')]\n",
    "check[:10]"
   ]
  },
  {
   "cell_type": "code",
   "execution_count": 15,
   "metadata": {},
   "outputs": [
    {
     "data": {
      "text/plain": [
       "(5, {'h', 'm', 'u', 'w', 'x'}, ['hmuwx', 'hmuwx', 'hmuwx', 'hmuwx', 'hmuwx'])"
      ]
     },
     "execution_count": 15,
     "metadata": {},
     "output_type": "execute_result"
    }
   ],
   "source": [
    "i = 0\n",
    "len(sorted(find_common_answers(check[i]))), find_common_answers(check[i]), [\"\".join(sorted(x)) for x in check[i]]"
   ]
  },
  {
   "cell_type": "code",
   "execution_count": 16,
   "metadata": {},
   "outputs": [
    {
     "data": {
      "text/plain": [
       "(0, set(), ['k', 'k', 'lt', 'k'])"
      ]
     },
     "execution_count": 16,
     "metadata": {},
     "output_type": "execute_result"
    }
   ],
   "source": [
    "i = 1\n",
    "len(sorted(find_common_answers(check[i]))), find_common_answers(check[i]), [\"\".join(sorted(x)) for x in check[i]]"
   ]
  },
  {
   "cell_type": "code",
   "execution_count": 17,
   "metadata": {},
   "outputs": [
    {
     "data": {
      "text/plain": [
       "(3,\n",
       " {'a', 'f', 'v'},\n",
       " ['abdefghqrv', 'afiklv', 'afiouvwy', 'afisv', 'afinouvwz'])"
      ]
     },
     "execution_count": 17,
     "metadata": {},
     "output_type": "execute_result"
    }
   ],
   "source": [
    "i = 2\n",
    "len(sorted(find_common_answers(check[i]))), find_common_answers(check[i]), [\"\".join(sorted(x)) for x in check[i]]"
   ]
  },
  {
   "cell_type": "code",
   "execution_count": 18,
   "metadata": {},
   "outputs": [
    {
     "data": {
      "text/plain": [
       "(4, {'i', 'p', 'q', 'r'}, ['ceilnpqr', 'afghipqr', 'bipqrvwz', 'iknpqrtw'])"
      ]
     },
     "execution_count": 18,
     "metadata": {},
     "output_type": "execute_result"
    }
   ],
   "source": [
    "i = 3\n",
    "len(sorted(find_common_answers(check[i]))), find_common_answers(check[i]), [\"\".join(sorted(x)) for x in check[i]]"
   ]
  },
  {
   "cell_type": "code",
   "execution_count": 25,
   "metadata": {},
   "outputs": [
    {
     "data": {
      "text/plain": [
       "(12,\n",
       " {'a', 'b', 'c', 'e', 'f', 'g', 'h', 'i', 'k', 'q', 't', 'y'},\n",
       " ['abcefghikqty',\n",
       "  'abcefghikqty',\n",
       "  'abcefghikqty',\n",
       "  'abcefghiklqtvyz',\n",
       "  'abcefghikqty'])"
      ]
     },
     "execution_count": 25,
     "metadata": {},
     "output_type": "execute_result"
    }
   ],
   "source": [
    "i = 4\n",
    "len(sorted(find_common_answers(check[i]))), find_common_answers(check[i]), [\"\".join(sorted(x)) for x in check[i]]"
   ]
  },
  {
   "cell_type": "code",
   "execution_count": 26,
   "metadata": {},
   "outputs": [],
   "source": [
    "assert sorted(find_common_answers(check[0])) == sorted({\"h\", \"w\", \"x\", \"u\", \"m\"})\n",
    "assert find_common_answers(check[1]) == set(), f\"{find_common_answers(check[1])}\"\n",
    "assert find_common_answers(check[2]) == {\"a\", \"f\", \"v\"}"
   ]
  },
  {
   "cell_type": "code",
   "execution_count": 27,
   "metadata": {},
   "outputs": [
    {
     "data": {
      "text/plain": [
       "3050"
      ]
     },
     "execution_count": 27,
     "metadata": {},
     "output_type": "execute_result"
    }
   ],
   "source": [
    "sum((out := part2(given)))"
   ]
  }
 ],
 "metadata": {
  "jupytext": {
   "formats": "ipynb,md"
  },
  "kernelspec": {
   "display_name": "Python 3",
   "language": "python",
   "name": "python3"
  },
  "language_info": {
   "codemirror_mode": {
    "name": "ipython",
    "version": 3
   },
   "file_extension": ".py",
   "mimetype": "text/x-python",
   "name": "python",
   "nbconvert_exporter": "python",
   "pygments_lexer": "ipython3",
   "version": "3.8.6"
  }
 },
 "nbformat": 4,
 "nbformat_minor": 4
}
